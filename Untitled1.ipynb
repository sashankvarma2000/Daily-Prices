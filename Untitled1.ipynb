{
 "cells": [
  {
   "cell_type": "code",
   "execution_count": 44,
   "metadata": {},
   "outputs": [],
   "source": [
    "import pandas as pd\n",
    "import numpy as np\n",
    "import matplotlib.pyplot as plt"
   ]
  },
  {
   "cell_type": "code",
   "execution_count": 45,
   "metadata": {},
   "outputs": [],
   "source": [
    "data = pd.read_csv('daily_csv.csv')"
   ]
  },
  {
   "cell_type": "code",
   "execution_count": 46,
   "metadata": {},
   "outputs": [
    {
     "data": {
      "text/html": [
       "<div>\n",
       "<style scoped>\n",
       "    .dataframe tbody tr th:only-of-type {\n",
       "        vertical-align: middle;\n",
       "    }\n",
       "\n",
       "    .dataframe tbody tr th {\n",
       "        vertical-align: top;\n",
       "    }\n",
       "\n",
       "    .dataframe thead th {\n",
       "        text-align: right;\n",
       "    }\n",
       "</style>\n",
       "<table border=\"1\" class=\"dataframe\">\n",
       "  <thead>\n",
       "    <tr style=\"text-align: right;\">\n",
       "      <th></th>\n",
       "      <th>Date</th>\n",
       "      <th>Price</th>\n",
       "    </tr>\n",
       "  </thead>\n",
       "  <tbody>\n",
       "    <tr>\n",
       "      <th>0</th>\n",
       "      <td>1997-01-07</td>\n",
       "      <td>3.82</td>\n",
       "    </tr>\n",
       "    <tr>\n",
       "      <th>1</th>\n",
       "      <td>1997-01-08</td>\n",
       "      <td>3.80</td>\n",
       "    </tr>\n",
       "    <tr>\n",
       "      <th>2</th>\n",
       "      <td>1997-01-09</td>\n",
       "      <td>3.61</td>\n",
       "    </tr>\n",
       "    <tr>\n",
       "      <th>3</th>\n",
       "      <td>1997-01-10</td>\n",
       "      <td>3.92</td>\n",
       "    </tr>\n",
       "    <tr>\n",
       "      <th>4</th>\n",
       "      <td>1997-01-13</td>\n",
       "      <td>4.00</td>\n",
       "    </tr>\n",
       "    <tr>\n",
       "      <th>...</th>\n",
       "      <td>...</td>\n",
       "      <td>...</td>\n",
       "    </tr>\n",
       "    <tr>\n",
       "      <th>5913</th>\n",
       "      <td>2020-07-08</td>\n",
       "      <td>1.78</td>\n",
       "    </tr>\n",
       "    <tr>\n",
       "      <th>5914</th>\n",
       "      <td>2020-07-09</td>\n",
       "      <td>1.88</td>\n",
       "    </tr>\n",
       "    <tr>\n",
       "      <th>5915</th>\n",
       "      <td>2020-07-10</td>\n",
       "      <td>1.79</td>\n",
       "    </tr>\n",
       "    <tr>\n",
       "      <th>5916</th>\n",
       "      <td>2020-07-13</td>\n",
       "      <td>1.75</td>\n",
       "    </tr>\n",
       "    <tr>\n",
       "      <th>5917</th>\n",
       "      <td>2020-07-14</td>\n",
       "      <td>1.74</td>\n",
       "    </tr>\n",
       "  </tbody>\n",
       "</table>\n",
       "<p>5918 rows × 2 columns</p>\n",
       "</div>"
      ],
      "text/plain": [
       "            Date  Price\n",
       "0     1997-01-07   3.82\n",
       "1     1997-01-08   3.80\n",
       "2     1997-01-09   3.61\n",
       "3     1997-01-10   3.92\n",
       "4     1997-01-13   4.00\n",
       "...          ...    ...\n",
       "5913  2020-07-08   1.78\n",
       "5914  2020-07-09   1.88\n",
       "5915  2020-07-10   1.79\n",
       "5916  2020-07-13   1.75\n",
       "5917  2020-07-14   1.74\n",
       "\n",
       "[5918 rows x 2 columns]"
      ]
     },
     "execution_count": 46,
     "metadata": {},
     "output_type": "execute_result"
    }
   ],
   "source": [
    "data"
   ]
  },
  {
   "cell_type": "code",
   "execution_count": 47,
   "metadata": {},
   "outputs": [],
   "source": [
    "import seaborn as sns"
   ]
  },
  {
   "cell_type": "code",
   "execution_count": 50,
   "metadata": {},
   "outputs": [
    {
     "data": {
      "text/html": [
       "<div>\n",
       "<style scoped>\n",
       "    .dataframe tbody tr th:only-of-type {\n",
       "        vertical-align: middle;\n",
       "    }\n",
       "\n",
       "    .dataframe tbody tr th {\n",
       "        vertical-align: top;\n",
       "    }\n",
       "\n",
       "    .dataframe thead th {\n",
       "        text-align: right;\n",
       "    }\n",
       "</style>\n",
       "<table border=\"1\" class=\"dataframe\">\n",
       "  <thead>\n",
       "    <tr style=\"text-align: right;\">\n",
       "      <th></th>\n",
       "      <th>Date</th>\n",
       "      <th>Price</th>\n",
       "      <th>y</th>\n",
       "      <th>year</th>\n",
       "      <th>month</th>\n",
       "    </tr>\n",
       "  </thead>\n",
       "  <tbody>\n",
       "    <tr>\n",
       "      <th>0</th>\n",
       "      <td>1997-01-07</td>\n",
       "      <td>3.82</td>\n",
       "      <td>01-07</td>\n",
       "      <td>1997</td>\n",
       "      <td>01-07</td>\n",
       "    </tr>\n",
       "    <tr>\n",
       "      <th>1</th>\n",
       "      <td>1997-01-08</td>\n",
       "      <td>3.80</td>\n",
       "      <td>01-08</td>\n",
       "      <td>1997</td>\n",
       "      <td>01-08</td>\n",
       "    </tr>\n",
       "    <tr>\n",
       "      <th>2</th>\n",
       "      <td>1997-01-09</td>\n",
       "      <td>3.61</td>\n",
       "      <td>01-09</td>\n",
       "      <td>1997</td>\n",
       "      <td>01-09</td>\n",
       "    </tr>\n",
       "    <tr>\n",
       "      <th>3</th>\n",
       "      <td>1997-01-10</td>\n",
       "      <td>3.92</td>\n",
       "      <td>01-10</td>\n",
       "      <td>1997</td>\n",
       "      <td>01-10</td>\n",
       "    </tr>\n",
       "    <tr>\n",
       "      <th>4</th>\n",
       "      <td>1997-01-13</td>\n",
       "      <td>4.00</td>\n",
       "      <td>01-13</td>\n",
       "      <td>1997</td>\n",
       "      <td>01-13</td>\n",
       "    </tr>\n",
       "    <tr>\n",
       "      <th>...</th>\n",
       "      <td>...</td>\n",
       "      <td>...</td>\n",
       "      <td>...</td>\n",
       "      <td>...</td>\n",
       "      <td>...</td>\n",
       "    </tr>\n",
       "    <tr>\n",
       "      <th>5913</th>\n",
       "      <td>2020-07-08</td>\n",
       "      <td>1.78</td>\n",
       "      <td>07-08</td>\n",
       "      <td>2020</td>\n",
       "      <td>07-08</td>\n",
       "    </tr>\n",
       "    <tr>\n",
       "      <th>5914</th>\n",
       "      <td>2020-07-09</td>\n",
       "      <td>1.88</td>\n",
       "      <td>07-09</td>\n",
       "      <td>2020</td>\n",
       "      <td>07-09</td>\n",
       "    </tr>\n",
       "    <tr>\n",
       "      <th>5915</th>\n",
       "      <td>2020-07-10</td>\n",
       "      <td>1.79</td>\n",
       "      <td>07-10</td>\n",
       "      <td>2020</td>\n",
       "      <td>07-10</td>\n",
       "    </tr>\n",
       "    <tr>\n",
       "      <th>5916</th>\n",
       "      <td>2020-07-13</td>\n",
       "      <td>1.75</td>\n",
       "      <td>07-13</td>\n",
       "      <td>2020</td>\n",
       "      <td>07-13</td>\n",
       "    </tr>\n",
       "    <tr>\n",
       "      <th>5917</th>\n",
       "      <td>2020-07-14</td>\n",
       "      <td>1.74</td>\n",
       "      <td>07-14</td>\n",
       "      <td>2020</td>\n",
       "      <td>07-14</td>\n",
       "    </tr>\n",
       "  </tbody>\n",
       "</table>\n",
       "<p>5918 rows × 5 columns</p>\n",
       "</div>"
      ],
      "text/plain": [
       "            Date  Price      y  year  month\n",
       "0     1997-01-07   3.82  01-07  1997  01-07\n",
       "1     1997-01-08   3.80  01-08  1997  01-08\n",
       "2     1997-01-09   3.61  01-09  1997  01-09\n",
       "3     1997-01-10   3.92  01-10  1997  01-10\n",
       "4     1997-01-13   4.00  01-13  1997  01-13\n",
       "...          ...    ...    ...   ...    ...\n",
       "5913  2020-07-08   1.78  07-08  2020  07-08\n",
       "5914  2020-07-09   1.88  07-09  2020  07-09\n",
       "5915  2020-07-10   1.79  07-10  2020  07-10\n",
       "5916  2020-07-13   1.75  07-13  2020  07-13\n",
       "5917  2020-07-14   1.74  07-14  2020  07-14\n",
       "\n",
       "[5918 rows x 5 columns]"
      ]
     },
     "execution_count": 50,
     "metadata": {},
     "output_type": "execute_result"
    }
   ],
   "source": [
    "new = data[\"Date\"].str.split(\"-\", n = 1, expand = True)\n",
    "data[\"year\"]= new[0]\n",
    "data[\"month\"]= new[1]\n",
    "data"
   ]
  },
  {
   "cell_type": "code",
   "execution_count": 53,
   "metadata": {},
   "outputs": [],
   "source": [
    "cols = ['Date']\n",
    "data=data.drop(cols,axis=1)"
   ]
  },
  {
   "cell_type": "code",
   "execution_count": 54,
   "metadata": {},
   "outputs": [
    {
     "data": {
      "text/html": [
       "<div>\n",
       "<style scoped>\n",
       "    .dataframe tbody tr th:only-of-type {\n",
       "        vertical-align: middle;\n",
       "    }\n",
       "\n",
       "    .dataframe tbody tr th {\n",
       "        vertical-align: top;\n",
       "    }\n",
       "\n",
       "    .dataframe thead th {\n",
       "        text-align: right;\n",
       "    }\n",
       "</style>\n",
       "<table border=\"1\" class=\"dataframe\">\n",
       "  <thead>\n",
       "    <tr style=\"text-align: right;\">\n",
       "      <th></th>\n",
       "      <th>Price</th>\n",
       "      <th>y</th>\n",
       "      <th>year</th>\n",
       "      <th>month</th>\n",
       "    </tr>\n",
       "  </thead>\n",
       "  <tbody>\n",
       "    <tr>\n",
       "      <th>0</th>\n",
       "      <td>3.82</td>\n",
       "      <td>01-07</td>\n",
       "      <td>1997</td>\n",
       "      <td>01-07</td>\n",
       "    </tr>\n",
       "    <tr>\n",
       "      <th>1</th>\n",
       "      <td>3.80</td>\n",
       "      <td>01-08</td>\n",
       "      <td>1997</td>\n",
       "      <td>01-08</td>\n",
       "    </tr>\n",
       "    <tr>\n",
       "      <th>2</th>\n",
       "      <td>3.61</td>\n",
       "      <td>01-09</td>\n",
       "      <td>1997</td>\n",
       "      <td>01-09</td>\n",
       "    </tr>\n",
       "    <tr>\n",
       "      <th>3</th>\n",
       "      <td>3.92</td>\n",
       "      <td>01-10</td>\n",
       "      <td>1997</td>\n",
       "      <td>01-10</td>\n",
       "    </tr>\n",
       "    <tr>\n",
       "      <th>4</th>\n",
       "      <td>4.00</td>\n",
       "      <td>01-13</td>\n",
       "      <td>1997</td>\n",
       "      <td>01-13</td>\n",
       "    </tr>\n",
       "    <tr>\n",
       "      <th>...</th>\n",
       "      <td>...</td>\n",
       "      <td>...</td>\n",
       "      <td>...</td>\n",
       "      <td>...</td>\n",
       "    </tr>\n",
       "    <tr>\n",
       "      <th>5913</th>\n",
       "      <td>1.78</td>\n",
       "      <td>07-08</td>\n",
       "      <td>2020</td>\n",
       "      <td>07-08</td>\n",
       "    </tr>\n",
       "    <tr>\n",
       "      <th>5914</th>\n",
       "      <td>1.88</td>\n",
       "      <td>07-09</td>\n",
       "      <td>2020</td>\n",
       "      <td>07-09</td>\n",
       "    </tr>\n",
       "    <tr>\n",
       "      <th>5915</th>\n",
       "      <td>1.79</td>\n",
       "      <td>07-10</td>\n",
       "      <td>2020</td>\n",
       "      <td>07-10</td>\n",
       "    </tr>\n",
       "    <tr>\n",
       "      <th>5916</th>\n",
       "      <td>1.75</td>\n",
       "      <td>07-13</td>\n",
       "      <td>2020</td>\n",
       "      <td>07-13</td>\n",
       "    </tr>\n",
       "    <tr>\n",
       "      <th>5917</th>\n",
       "      <td>1.74</td>\n",
       "      <td>07-14</td>\n",
       "      <td>2020</td>\n",
       "      <td>07-14</td>\n",
       "    </tr>\n",
       "  </tbody>\n",
       "</table>\n",
       "<p>5918 rows × 4 columns</p>\n",
       "</div>"
      ],
      "text/plain": [
       "      Price      y  year  month\n",
       "0      3.82  01-07  1997  01-07\n",
       "1      3.80  01-08  1997  01-08\n",
       "2      3.61  01-09  1997  01-09\n",
       "3      3.92  01-10  1997  01-10\n",
       "4      4.00  01-13  1997  01-13\n",
       "...     ...    ...   ...    ...\n",
       "5913   1.78  07-08  2020  07-08\n",
       "5914   1.88  07-09  2020  07-09\n",
       "5915   1.79  07-10  2020  07-10\n",
       "5916   1.75  07-13  2020  07-13\n",
       "5917   1.74  07-14  2020  07-14\n",
       "\n",
       "[5918 rows x 4 columns]"
      ]
     },
     "execution_count": 54,
     "metadata": {},
     "output_type": "execute_result"
    }
   ],
   "source": [
    "data"
   ]
  },
  {
   "cell_type": "code",
   "execution_count": 55,
   "metadata": {},
   "outputs": [],
   "source": [
    "cols=['y']\n",
    "data=data.drop(cols,axis=1)"
   ]
  },
  {
   "cell_type": "code",
   "execution_count": 56,
   "metadata": {},
   "outputs": [
    {
     "data": {
      "text/html": [
       "<div>\n",
       "<style scoped>\n",
       "    .dataframe tbody tr th:only-of-type {\n",
       "        vertical-align: middle;\n",
       "    }\n",
       "\n",
       "    .dataframe tbody tr th {\n",
       "        vertical-align: top;\n",
       "    }\n",
       "\n",
       "    .dataframe thead th {\n",
       "        text-align: right;\n",
       "    }\n",
       "</style>\n",
       "<table border=\"1\" class=\"dataframe\">\n",
       "  <thead>\n",
       "    <tr style=\"text-align: right;\">\n",
       "      <th></th>\n",
       "      <th>Price</th>\n",
       "      <th>year</th>\n",
       "      <th>month</th>\n",
       "    </tr>\n",
       "  </thead>\n",
       "  <tbody>\n",
       "    <tr>\n",
       "      <th>0</th>\n",
       "      <td>3.82</td>\n",
       "      <td>1997</td>\n",
       "      <td>01-07</td>\n",
       "    </tr>\n",
       "    <tr>\n",
       "      <th>1</th>\n",
       "      <td>3.80</td>\n",
       "      <td>1997</td>\n",
       "      <td>01-08</td>\n",
       "    </tr>\n",
       "    <tr>\n",
       "      <th>2</th>\n",
       "      <td>3.61</td>\n",
       "      <td>1997</td>\n",
       "      <td>01-09</td>\n",
       "    </tr>\n",
       "    <tr>\n",
       "      <th>3</th>\n",
       "      <td>3.92</td>\n",
       "      <td>1997</td>\n",
       "      <td>01-10</td>\n",
       "    </tr>\n",
       "    <tr>\n",
       "      <th>4</th>\n",
       "      <td>4.00</td>\n",
       "      <td>1997</td>\n",
       "      <td>01-13</td>\n",
       "    </tr>\n",
       "    <tr>\n",
       "      <th>...</th>\n",
       "      <td>...</td>\n",
       "      <td>...</td>\n",
       "      <td>...</td>\n",
       "    </tr>\n",
       "    <tr>\n",
       "      <th>5913</th>\n",
       "      <td>1.78</td>\n",
       "      <td>2020</td>\n",
       "      <td>07-08</td>\n",
       "    </tr>\n",
       "    <tr>\n",
       "      <th>5914</th>\n",
       "      <td>1.88</td>\n",
       "      <td>2020</td>\n",
       "      <td>07-09</td>\n",
       "    </tr>\n",
       "    <tr>\n",
       "      <th>5915</th>\n",
       "      <td>1.79</td>\n",
       "      <td>2020</td>\n",
       "      <td>07-10</td>\n",
       "    </tr>\n",
       "    <tr>\n",
       "      <th>5916</th>\n",
       "      <td>1.75</td>\n",
       "      <td>2020</td>\n",
       "      <td>07-13</td>\n",
       "    </tr>\n",
       "    <tr>\n",
       "      <th>5917</th>\n",
       "      <td>1.74</td>\n",
       "      <td>2020</td>\n",
       "      <td>07-14</td>\n",
       "    </tr>\n",
       "  </tbody>\n",
       "</table>\n",
       "<p>5918 rows × 3 columns</p>\n",
       "</div>"
      ],
      "text/plain": [
       "      Price  year  month\n",
       "0      3.82  1997  01-07\n",
       "1      3.80  1997  01-08\n",
       "2      3.61  1997  01-09\n",
       "3      3.92  1997  01-10\n",
       "4      4.00  1997  01-13\n",
       "...     ...   ...    ...\n",
       "5913   1.78  2020  07-08\n",
       "5914   1.88  2020  07-09\n",
       "5915   1.79  2020  07-10\n",
       "5916   1.75  2020  07-13\n",
       "5917   1.74  2020  07-14\n",
       "\n",
       "[5918 rows x 3 columns]"
      ]
     },
     "execution_count": 56,
     "metadata": {},
     "output_type": "execute_result"
    }
   ],
   "source": [
    "data"
   ]
  },
  {
   "cell_type": "code",
   "execution_count": 57,
   "metadata": {},
   "outputs": [
    {
     "data": {
      "text/html": [
       "<div>\n",
       "<style scoped>\n",
       "    .dataframe tbody tr th:only-of-type {\n",
       "        vertical-align: middle;\n",
       "    }\n",
       "\n",
       "    .dataframe tbody tr th {\n",
       "        vertical-align: top;\n",
       "    }\n",
       "\n",
       "    .dataframe thead th {\n",
       "        text-align: right;\n",
       "    }\n",
       "</style>\n",
       "<table border=\"1\" class=\"dataframe\">\n",
       "  <thead>\n",
       "    <tr style=\"text-align: right;\">\n",
       "      <th></th>\n",
       "      <th>Price</th>\n",
       "      <th>year</th>\n",
       "      <th>month</th>\n",
       "      <th>day</th>\n",
       "      <th>mon</th>\n",
       "    </tr>\n",
       "  </thead>\n",
       "  <tbody>\n",
       "    <tr>\n",
       "      <th>0</th>\n",
       "      <td>3.82</td>\n",
       "      <td>1997</td>\n",
       "      <td>01-07</td>\n",
       "      <td>01</td>\n",
       "      <td>07</td>\n",
       "    </tr>\n",
       "    <tr>\n",
       "      <th>1</th>\n",
       "      <td>3.80</td>\n",
       "      <td>1997</td>\n",
       "      <td>01-08</td>\n",
       "      <td>01</td>\n",
       "      <td>08</td>\n",
       "    </tr>\n",
       "    <tr>\n",
       "      <th>2</th>\n",
       "      <td>3.61</td>\n",
       "      <td>1997</td>\n",
       "      <td>01-09</td>\n",
       "      <td>01</td>\n",
       "      <td>09</td>\n",
       "    </tr>\n",
       "    <tr>\n",
       "      <th>3</th>\n",
       "      <td>3.92</td>\n",
       "      <td>1997</td>\n",
       "      <td>01-10</td>\n",
       "      <td>01</td>\n",
       "      <td>10</td>\n",
       "    </tr>\n",
       "    <tr>\n",
       "      <th>4</th>\n",
       "      <td>4.00</td>\n",
       "      <td>1997</td>\n",
       "      <td>01-13</td>\n",
       "      <td>01</td>\n",
       "      <td>13</td>\n",
       "    </tr>\n",
       "    <tr>\n",
       "      <th>...</th>\n",
       "      <td>...</td>\n",
       "      <td>...</td>\n",
       "      <td>...</td>\n",
       "      <td>...</td>\n",
       "      <td>...</td>\n",
       "    </tr>\n",
       "    <tr>\n",
       "      <th>5913</th>\n",
       "      <td>1.78</td>\n",
       "      <td>2020</td>\n",
       "      <td>07-08</td>\n",
       "      <td>07</td>\n",
       "      <td>08</td>\n",
       "    </tr>\n",
       "    <tr>\n",
       "      <th>5914</th>\n",
       "      <td>1.88</td>\n",
       "      <td>2020</td>\n",
       "      <td>07-09</td>\n",
       "      <td>07</td>\n",
       "      <td>09</td>\n",
       "    </tr>\n",
       "    <tr>\n",
       "      <th>5915</th>\n",
       "      <td>1.79</td>\n",
       "      <td>2020</td>\n",
       "      <td>07-10</td>\n",
       "      <td>07</td>\n",
       "      <td>10</td>\n",
       "    </tr>\n",
       "    <tr>\n",
       "      <th>5916</th>\n",
       "      <td>1.75</td>\n",
       "      <td>2020</td>\n",
       "      <td>07-13</td>\n",
       "      <td>07</td>\n",
       "      <td>13</td>\n",
       "    </tr>\n",
       "    <tr>\n",
       "      <th>5917</th>\n",
       "      <td>1.74</td>\n",
       "      <td>2020</td>\n",
       "      <td>07-14</td>\n",
       "      <td>07</td>\n",
       "      <td>14</td>\n",
       "    </tr>\n",
       "  </tbody>\n",
       "</table>\n",
       "<p>5918 rows × 5 columns</p>\n",
       "</div>"
      ],
      "text/plain": [
       "      Price  year  month day mon\n",
       "0      3.82  1997  01-07  01  07\n",
       "1      3.80  1997  01-08  01  08\n",
       "2      3.61  1997  01-09  01  09\n",
       "3      3.92  1997  01-10  01  10\n",
       "4      4.00  1997  01-13  01  13\n",
       "...     ...   ...    ...  ..  ..\n",
       "5913   1.78  2020  07-08  07  08\n",
       "5914   1.88  2020  07-09  07  09\n",
       "5915   1.79  2020  07-10  07  10\n",
       "5916   1.75  2020  07-13  07  13\n",
       "5917   1.74  2020  07-14  07  14\n",
       "\n",
       "[5918 rows x 5 columns]"
      ]
     },
     "execution_count": 57,
     "metadata": {},
     "output_type": "execute_result"
    }
   ],
   "source": [
    "new = data[\"month\"].str.split(\"-\", n = 1, expand = True)\n",
    "data[\"day\"]= new[0]\n",
    "data[\"mon\"]= new[1]\n",
    "data"
   ]
  },
  {
   "cell_type": "code",
   "execution_count": 58,
   "metadata": {},
   "outputs": [],
   "source": [
    "col=['month']\n",
    "data=data.drop(col,axis=1)"
   ]
  },
  {
   "cell_type": "code",
   "execution_count": 59,
   "metadata": {},
   "outputs": [
    {
     "data": {
      "text/html": [
       "<div>\n",
       "<style scoped>\n",
       "    .dataframe tbody tr th:only-of-type {\n",
       "        vertical-align: middle;\n",
       "    }\n",
       "\n",
       "    .dataframe tbody tr th {\n",
       "        vertical-align: top;\n",
       "    }\n",
       "\n",
       "    .dataframe thead th {\n",
       "        text-align: right;\n",
       "    }\n",
       "</style>\n",
       "<table border=\"1\" class=\"dataframe\">\n",
       "  <thead>\n",
       "    <tr style=\"text-align: right;\">\n",
       "      <th></th>\n",
       "      <th>Price</th>\n",
       "      <th>year</th>\n",
       "      <th>day</th>\n",
       "      <th>mon</th>\n",
       "    </tr>\n",
       "  </thead>\n",
       "  <tbody>\n",
       "    <tr>\n",
       "      <th>0</th>\n",
       "      <td>3.82</td>\n",
       "      <td>1997</td>\n",
       "      <td>01</td>\n",
       "      <td>07</td>\n",
       "    </tr>\n",
       "    <tr>\n",
       "      <th>1</th>\n",
       "      <td>3.80</td>\n",
       "      <td>1997</td>\n",
       "      <td>01</td>\n",
       "      <td>08</td>\n",
       "    </tr>\n",
       "    <tr>\n",
       "      <th>2</th>\n",
       "      <td>3.61</td>\n",
       "      <td>1997</td>\n",
       "      <td>01</td>\n",
       "      <td>09</td>\n",
       "    </tr>\n",
       "    <tr>\n",
       "      <th>3</th>\n",
       "      <td>3.92</td>\n",
       "      <td>1997</td>\n",
       "      <td>01</td>\n",
       "      <td>10</td>\n",
       "    </tr>\n",
       "    <tr>\n",
       "      <th>4</th>\n",
       "      <td>4.00</td>\n",
       "      <td>1997</td>\n",
       "      <td>01</td>\n",
       "      <td>13</td>\n",
       "    </tr>\n",
       "    <tr>\n",
       "      <th>...</th>\n",
       "      <td>...</td>\n",
       "      <td>...</td>\n",
       "      <td>...</td>\n",
       "      <td>...</td>\n",
       "    </tr>\n",
       "    <tr>\n",
       "      <th>5913</th>\n",
       "      <td>1.78</td>\n",
       "      <td>2020</td>\n",
       "      <td>07</td>\n",
       "      <td>08</td>\n",
       "    </tr>\n",
       "    <tr>\n",
       "      <th>5914</th>\n",
       "      <td>1.88</td>\n",
       "      <td>2020</td>\n",
       "      <td>07</td>\n",
       "      <td>09</td>\n",
       "    </tr>\n",
       "    <tr>\n",
       "      <th>5915</th>\n",
       "      <td>1.79</td>\n",
       "      <td>2020</td>\n",
       "      <td>07</td>\n",
       "      <td>10</td>\n",
       "    </tr>\n",
       "    <tr>\n",
       "      <th>5916</th>\n",
       "      <td>1.75</td>\n",
       "      <td>2020</td>\n",
       "      <td>07</td>\n",
       "      <td>13</td>\n",
       "    </tr>\n",
       "    <tr>\n",
       "      <th>5917</th>\n",
       "      <td>1.74</td>\n",
       "      <td>2020</td>\n",
       "      <td>07</td>\n",
       "      <td>14</td>\n",
       "    </tr>\n",
       "  </tbody>\n",
       "</table>\n",
       "<p>5918 rows × 4 columns</p>\n",
       "</div>"
      ],
      "text/plain": [
       "      Price  year day mon\n",
       "0      3.82  1997  01  07\n",
       "1      3.80  1997  01  08\n",
       "2      3.61  1997  01  09\n",
       "3      3.92  1997  01  10\n",
       "4      4.00  1997  01  13\n",
       "...     ...   ...  ..  ..\n",
       "5913   1.78  2020  07  08\n",
       "5914   1.88  2020  07  09\n",
       "5915   1.79  2020  07  10\n",
       "5916   1.75  2020  07  13\n",
       "5917   1.74  2020  07  14\n",
       "\n",
       "[5918 rows x 4 columns]"
      ]
     },
     "execution_count": 59,
     "metadata": {},
     "output_type": "execute_result"
    }
   ],
   "source": [
    "data"
   ]
  },
  {
   "cell_type": "code",
   "execution_count": 62,
   "metadata": {},
   "outputs": [
    {
     "data": {
      "text/plain": [
       "Price     True\n",
       "year     False\n",
       "day      False\n",
       "mon      False\n",
       "dtype: bool"
      ]
     },
     "execution_count": 62,
     "metadata": {},
     "output_type": "execute_result"
    }
   ],
   "source": [
    "data.isnull().any()"
   ]
  },
  {
   "cell_type": "code",
   "execution_count": 63,
   "metadata": {},
   "outputs": [],
   "source": [
    "data['Price'].fillna(data['Price'].mean(),inplace=True)"
   ]
  },
  {
   "cell_type": "code",
   "execution_count": 64,
   "metadata": {},
   "outputs": [
    {
     "data": {
      "text/plain": [
       "Price    False\n",
       "year     False\n",
       "day      False\n",
       "mon      False\n",
       "dtype: bool"
      ]
     },
     "execution_count": 64,
     "metadata": {},
     "output_type": "execute_result"
    }
   ],
   "source": [
    "data.isnull().any()"
   ]
  },
  {
   "cell_type": "code",
   "execution_count": 68,
   "metadata": {},
   "outputs": [
    {
     "data": {
      "text/plain": [
       "array([[3.82],\n",
       "       [3.8 ],\n",
       "       [3.61],\n",
       "       ...,\n",
       "       [1.79],\n",
       "       [1.75],\n",
       "       [1.74]])"
      ]
     },
     "execution_count": 68,
     "metadata": {},
     "output_type": "execute_result"
    }
   ],
   "source": [
    "y=data.loc[:,data.columns=='Price'].values\n",
    "y"
   ]
  },
  {
   "cell_type": "code",
   "execution_count": 69,
   "metadata": {},
   "outputs": [
    {
     "data": {
      "text/plain": [
       "array([['1997', '01', '07'],\n",
       "       ['1997', '01', '08'],\n",
       "       ['1997', '01', '09'],\n",
       "       ...,\n",
       "       ['2020', '07', '10'],\n",
       "       ['2020', '07', '13'],\n",
       "       ['2020', '07', '14']], dtype=object)"
      ]
     },
     "execution_count": 69,
     "metadata": {},
     "output_type": "execute_result"
    }
   ],
   "source": [
    "x=data.loc[:,data.columns!='Price'].values\n",
    "x"
   ]
  },
  {
   "cell_type": "code",
   "execution_count": 70,
   "metadata": {},
   "outputs": [
    {
     "data": {
      "text/plain": [
       "array([[-1.66518098, -1.59751007, -0.9962194 ],\n",
       "       [-1.66518098, -1.59751007, -0.88179454],\n",
       "       [-1.66518098, -1.59751007, -0.76736968],\n",
       "       ...,\n",
       "       [ 1.71585403,  0.15638232, -0.65294483],\n",
       "       [ 1.71585403,  0.15638232, -0.30967025],\n",
       "       [ 1.71585403,  0.15638232, -0.19524539]])"
      ]
     },
     "execution_count": 70,
     "metadata": {},
     "output_type": "execute_result"
    }
   ],
   "source": [
    "from sklearn.preprocessing import StandardScaler\n",
    "sc=StandardScaler()\n",
    "x=sc.fit_transform(x)\n",
    "x"
   ]
  },
  {
   "cell_type": "code",
   "execution_count": 78,
   "metadata": {},
   "outputs": [],
   "source": [
    "from sklearn.model_selection import train_test_split\n",
    "x_train,x_test,y_train,y_test=train_test_split(x,y,test_size=0.20,random_state=0)"
   ]
  },
  {
   "cell_type": "code",
   "execution_count": 79,
   "metadata": {},
   "outputs": [
    {
     "name": "stderr",
     "output_type": "stream",
     "text": [
      "C:\\Users\\Sashank Varma\\anaconda3\\lib\\site-packages\\ipykernel_launcher.py:3: DataConversionWarning: A column-vector y was passed when a 1d array was expected. Please change the shape of y to (n_samples,), for example using ravel().\n",
      "  This is separate from the ipykernel package so we can avoid doing imports until\n"
     ]
    },
    {
     "data": {
      "text/plain": [
       "RandomForestRegressor(bootstrap=True, ccp_alpha=0.0, criterion='mse',\n",
       "                      max_depth=None, max_features='auto', max_leaf_nodes=None,\n",
       "                      max_samples=None, min_impurity_decrease=0.0,\n",
       "                      min_impurity_split=None, min_samples_leaf=1,\n",
       "                      min_samples_split=2, min_weight_fraction_leaf=0.0,\n",
       "                      n_estimators=10, n_jobs=-1, oob_score=False,\n",
       "                      random_state=0, verbose=0, warm_start=False)"
      ]
     },
     "execution_count": 79,
     "metadata": {},
     "output_type": "execute_result"
    }
   ],
   "source": [
    "from sklearn.ensemble import RandomForestRegressor\n",
    "Rf=RandomForestRegressor(n_estimators=10,random_state=0,n_jobs=-1)\n",
    "Rf.fit(x_train,y_train)"
   ]
  },
  {
   "cell_type": "code",
   "execution_count": 80,
   "metadata": {},
   "outputs": [],
   "source": [
    "y_pred=Rf.predict(x_test)"
   ]
  },
  {
   "cell_type": "code",
   "execution_count": 81,
   "metadata": {},
   "outputs": [
    {
     "data": {
      "text/plain": [
       "array([3.058, 4.534, 7.374, ..., 2.285, 3.117, 7.94 ])"
      ]
     },
     "execution_count": 81,
     "metadata": {},
     "output_type": "execute_result"
    }
   ],
   "source": [
    "y_pred"
   ]
  },
  {
   "cell_type": "code",
   "execution_count": 82,
   "metadata": {},
   "outputs": [
    {
     "data": {
      "text/plain": [
       "array([[3.01],\n",
       "       [4.53],\n",
       "       [7.04],\n",
       "       ...,\n",
       "       [2.28],\n",
       "       [3.09],\n",
       "       [8.1 ]])"
      ]
     },
     "execution_count": 82,
     "metadata": {},
     "output_type": "execute_result"
    }
   ],
   "source": [
    "y_test"
   ]
  },
  {
   "cell_type": "code",
   "execution_count": 83,
   "metadata": {},
   "outputs": [],
   "source": [
    "from sklearn.metrics import r2_score"
   ]
  },
  {
   "cell_type": "code",
   "execution_count": 84,
   "metadata": {},
   "outputs": [
    {
     "data": {
      "text/plain": [
       "0.9880390477657343"
      ]
     },
     "execution_count": 84,
     "metadata": {},
     "output_type": "execute_result"
    }
   ],
   "source": [
    "r2_score(y_pred,y_test)"
   ]
  },
  {
   "cell_type": "code",
   "execution_count": null,
   "metadata": {},
   "outputs": [],
   "source": []
  }
 ],
 "metadata": {
  "kernelspec": {
   "display_name": "Python 3",
   "language": "python",
   "name": "python3"
  },
  "language_info": {
   "codemirror_mode": {
    "name": "ipython",
    "version": 3
   },
   "file_extension": ".py",
   "mimetype": "text/x-python",
   "name": "python",
   "nbconvert_exporter": "python",
   "pygments_lexer": "ipython3",
   "version": "3.7.6"
  }
 },
 "nbformat": 4,
 "nbformat_minor": 4
}
